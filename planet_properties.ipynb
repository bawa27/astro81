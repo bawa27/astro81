{
 "cells": [
  {
   "metadata": {},
   "cell_type": "markdown",
   "source": [
    "# Properties of Planet TOI 655.01\n",
    "\n",
    "This notebook will be used to calculate the following properties of planet TOI 655.01:\n",
    "- Orbital Radius\n",
    "- Planet Radius\n",
    "- Planet Mass\n",
    "- Planet Density\n",
    "- Planet Surface Gravity\n",
    "- Planet Equilibrium Temperature\n",
    "\n",
    "We will use our observed light curve along with known quantities of orbital period, stellar mass, and stellar radial velocity measurements."
   ],
   "id": "8cd49d05c7c01874"
  },
  {
   "metadata": {
    "ExecuteTime": {
     "end_time": "2025-03-12T10:09:00.914171Z",
     "start_time": "2025-03-12T10:09:00.900269Z"
    }
   },
   "cell_type": "code",
   "source": [
    "# loading required packages\n",
    "import numpy as np\n",
    "from astropy import units as u\n",
    "from astropy import uncertainty as unc"
   ],
   "id": "bd02dbc0bb5d0f8",
   "outputs": [],
   "execution_count": 14
  },
  {
   "metadata": {
    "ExecuteTime": {
     "end_time": "2025-03-13T16:55:01.040818Z",
     "start_time": "2025-03-13T16:55:00.882691Z"
    }
   },
   "cell_type": "code",
   "source": [
    "# Known quantities\n",
    "STELLAR_MASS = unc.normal(0.904*u.M_sun, std= 0.045*u.M_sun, n_samples=1000000)\n",
    "STELLAR_RADIUS = unc.normal(1.004*u.R_sun, std=0.018*u.R_sun, n_samples=1000000)\n",
    "STELLAR_TEQ = unc.normal(5500.0*u.K, std=100*u.K, n_samples=1000000 )\n",
    "PLANETARY_MASS = unc.normal(1.139*u.M_jup, std=0.03*u.M_jup, n_samples=1000000)\n",
    "PLANET_ALBEDO = unc.normal(0.11, std=0.03, n_samples=1000000)\n",
    "\n",
    "# Quantities we found\n",
    "ORBITAL_PERIOD = unc.normal(0.7888389265*u.day, std=0.0000036*u.day, n_samples=1000000)\n",
    "FLUX_DIP = 0.02161\n",
    "\n",
    "# Constants\n",
    "GRAV_CONSTANT =  6.67430e-11 * u.m**3 / (u.kg * u.s**2)"
   ],
   "id": "33b6849f0b5e5337",
   "outputs": [],
   "execution_count": 195
  },
  {
   "metadata": {
    "ExecuteTime": {
     "end_time": "2025-03-13T14:28:06.673085Z",
     "start_time": "2025-03-13T14:28:06.401691Z"
    }
   },
   "cell_type": "code",
   "source": [
    "# Orbital Radius (semi major axis)\n",
    "orbital_radius_dist = ((((GRAV_CONSTANT * STELLAR_MASS) / (4 * np.pi ** 2)) * ORBITAL_PERIOD ** 2) ** (1 / 3)).decompose()\n",
    "orbital_radius = orbital_radius_dist.pdf_median().to(u.au)\n",
    "orbital_radius_err = orbital_radius_dist.pdf_std().to(u.au)\n",
    "orbital_radius, orbital_radius_err"
   ],
   "id": "a8a6ddc8a3c05111",
   "outputs": [
    {
     "data": {
      "text/plain": [
       "(<Quantity 0.01615502 AU>, <Quantity 0.00026841 AU>)"
      ]
     },
     "execution_count": 189,
     "metadata": {},
     "output_type": "execute_result"
    }
   ],
   "execution_count": 189
  },
  {
   "metadata": {
    "ExecuteTime": {
     "end_time": "2025-03-13T14:29:02.639851Z",
     "start_time": "2025-03-13T14:29:02.591481Z"
    }
   },
   "cell_type": "code",
   "source": [
    "#planet radius\n",
    "planet_radius_dist = (STELLAR_RADIUS * np.sqrt(FLUX_DIP)).decompose()\n",
    "planet_radius = planet_radius_dist.pdf_median().to(u.R_jup)\n",
    "planet_radius_err = planet_radius_dist.pdf_std().to(u.R_jup)\n",
    "planet_radius, planet_radius_err"
   ],
   "id": "1e3fd643cd33b3c3",
   "outputs": [
    {
     "data": {
      "text/plain": [
       "(<Quantity 1.4362588 jupiterRad>, <Quantity 0.02576122 jupiterRad>)"
      ]
     },
     "execution_count": 191,
     "metadata": {},
     "output_type": "execute_result"
    }
   ],
   "execution_count": 191
  },
  {
   "metadata": {
    "ExecuteTime": {
     "end_time": "2025-03-13T14:29:29.402197Z",
     "start_time": "2025-03-13T14:29:29.220206Z"
    }
   },
   "cell_type": "code",
   "source": [
    "# Planet Density\n",
    "planet_density_dist = (PLANETARY_MASS / ((4 / 3) * np.pi * planet_radius_dist ** 3)).decompose()\n",
    "planet_density = planet_density_dist.pdf_median() / (1.33 * u.g / u.cm ** 3).decompose()\n",
    "planet_density_err = planet_density_dist.pdf_std() / (1.33 * u.g / u.cm ** 3).decompose()\n",
    "planet_density, planet_density_err"
   ],
   "id": "bb71f839d950c817",
   "outputs": [
    {
     "data": {
      "text/plain": [
       "(<Quantity 0.35840317>, <Quantity 0.02156803>)"
      ]
     },
     "execution_count": 192,
     "metadata": {},
     "output_type": "execute_result"
    }
   ],
   "execution_count": 192
  },
  {
   "metadata": {
    "ExecuteTime": {
     "end_time": "2025-03-13T16:55:10.149630Z",
     "start_time": "2025-03-13T16:55:10.015973Z"
    }
   },
   "cell_type": "code",
   "source": [
    "# Planet Equilibrium Temperature\n",
    "planet_eq_temp_dist = (STELLAR_TEQ * (1 - PLANET_ALBEDO) ** 0.25 * np.sqrt(STELLAR_RADIUS / (2 * orbital_radius_dist))).decompose()\n",
    "planet_eq_temp = planet_eq_temp_dist.pdf_median()\n",
    "planet_eq_temp_err = planet_eq_temp_dist.pdf_std()\n",
    "planet_eq_temp, planet_eq_temp_err"
   ],
   "id": "4fbb0359066aeced",
   "outputs": [
    {
     "data": {
      "text/plain": [
       "(<Quantity 2030.59709995 K>, <Quantity 47.71740329 K>)"
      ]
     },
     "execution_count": 196,
     "metadata": {},
     "output_type": "execute_result"
    }
   ],
   "execution_count": 196
  }
 ],
 "metadata": {
  "kernelspec": {
   "display_name": "Python 3",
   "language": "python",
   "name": "python3"
  },
  "language_info": {
   "codemirror_mode": {
    "name": "ipython",
    "version": 2
   },
   "file_extension": ".py",
   "mimetype": "text/x-python",
   "name": "python",
   "nbconvert_exporter": "python",
   "pygments_lexer": "ipython2",
   "version": "2.7.6"
  }
 },
 "nbformat": 4,
 "nbformat_minor": 5
}
