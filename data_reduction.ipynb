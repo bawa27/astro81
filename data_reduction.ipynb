{
 "cells": [
  {
   "cell_type": "code",
   "id": "6501893f-3000-4da1-8044-9fb38e06e3c9",
   "metadata": {
    "ExecuteTime": {
     "end_time": "2025-03-03T09:18:55.051318Z",
     "start_time": "2025-03-03T09:18:50.956273Z"
    }
   },
   "source": [
    "# imports\n",
    "from pathlib import Path\n",
    "import os\n",
    "\n",
    "from astropy.nddata import CCDData\n",
    "from astropy.stats import mad_std\n",
    "import astropy.units as u\n",
    "\n",
    "import ccdproc as ccdp\n",
    "import matplotlib.pyplot as plt\n",
    "import numpy as np"
   ],
   "outputs": [],
   "execution_count": 1
  },
  {
   "cell_type": "code",
   "id": "0aa06480-af5a-4a17-b636-0bb72b5bff53",
   "metadata": {
    "ExecuteTime": {
     "end_time": "2025-03-03T09:29:32.463468Z",
     "start_time": "2025-03-03T09:29:32.380073Z"
    }
   },
   "source": [
    "# find out what image type the biases are called\n",
    "bias_images = ccdp.ImageFileCollection('data/2025.0224')\n",
    "bias_images.summary['file', 'object']"
   ],
   "outputs": [
    {
     "data": {
      "text/plain": [
       "<Table length=8>\n",
       "         file            object  \n",
       "        str22            str10   \n",
       "---------------------- ----------\n",
       "SHD_20250224.0001.fits    skyflat\n",
       "SHD_20250224.0002.fits    skyflat\n",
       "SHD_20250224.0003.fits    skyflat\n",
       "SHD_20250224.0004.fits   j0916-26\n",
       "SHD_20250224.0005.fits   j0916-26\n",
       "SHD_20250224.0006.fits    mgab253\n",
       "SHD_20250224.0007.fits sgr1231-42\n",
       "SHD_20250224.0008.fits       bias"
      ],
      "text/html": [
       "<div><i>Table length=8</i>\n",
       "<table id=\"table2174380288640\" class=\"table-striped table-bordered table-condensed\">\n",
       "<thead><tr><th>file</th><th>object</th></tr></thead>\n",
       "<thead><tr><th>str22</th><th>str10</th></tr></thead>\n",
       "<tr><td>SHD_20250224.0001.fits</td><td>skyflat</td></tr>\n",
       "<tr><td>SHD_20250224.0002.fits</td><td>skyflat</td></tr>\n",
       "<tr><td>SHD_20250224.0003.fits</td><td>skyflat</td></tr>\n",
       "<tr><td>SHD_20250224.0004.fits</td><td>j0916-26</td></tr>\n",
       "<tr><td>SHD_20250224.0005.fits</td><td>j0916-26</td></tr>\n",
       "<tr><td>SHD_20250224.0006.fits</td><td>mgab253</td></tr>\n",
       "<tr><td>SHD_20250224.0007.fits</td><td>sgr1231-42</td></tr>\n",
       "<tr><td>SHD_20250224.0008.fits</td><td>bias</td></tr>\n",
       "</table></div>"
      ]
     },
     "execution_count": 8,
     "metadata": {},
     "output_type": "execute_result"
    }
   ],
   "execution_count": 8
  },
  {
   "metadata": {
    "ExecuteTime": {
     "end_time": "2025-03-03T09:35:23.483016Z",
     "start_time": "2025-03-03T09:35:23.475222Z"
    }
   },
   "cell_type": "code",
   "source": [
    "from astropy.io import fits\n",
    "\n",
    "hdul = fits.open('data/2025.0224/SHD_20250224.0008.fits')\n",
    "hdul.info()"
   ],
   "id": "c42437c9a603bd99",
   "outputs": [
    {
     "name": "stdout",
     "output_type": "stream",
     "text": [
      "Filename: data/2025.0224/SHD_20250224.0008.fits\n",
      "No.    Name      Ver    Type      Cards   Dimensions   Format\n",
      "  0  PRIMARY       1 PrimaryHDU     118   (256, 256, 30)   int16 (rescales to uint16)   \n"
     ]
    }
   ],
   "execution_count": 16
  },
  {
   "metadata": {},
   "cell_type": "code",
   "outputs": [
    {
     "name": "stderr",
     "output_type": "stream",
     "text": [
      "WARNING: FITSFixedWarning: 'datfix' made the change 'Set MJD-OBS to 60695.858293 from DATE-OBS'. [astropy.wcs.wcs]\n",
      "WARNING:astropy:FITSFixedWarning: 'datfix' made the change 'Set MJD-OBS to 60695.858293 from DATE-OBS'.\n",
      "WARNING: FITSFixedWarning: 'datfix' made the change 'Set MJD-OBS to 60695.858706 from DATE-OBS'. [astropy.wcs.wcs]\n",
      "WARNING:astropy:FITSFixedWarning: 'datfix' made the change 'Set MJD-OBS to 60695.858706 from DATE-OBS'.\n",
      "WARNING: FITSFixedWarning: 'datfix' made the change 'Set MJD-OBS to 60695.858722 from DATE-OBS'. [astropy.wcs.wcs]\n",
      "WARNING:astropy:FITSFixedWarning: 'datfix' made the change 'Set MJD-OBS to 60695.858722 from DATE-OBS'.\n",
      "WARNING: FITSFixedWarning: 'datfix' made the change 'Set MJD-OBS to 60695.858738 from DATE-OBS'. [astropy.wcs.wcs]\n",
      "WARNING:astropy:FITSFixedWarning: 'datfix' made the change 'Set MJD-OBS to 60695.858738 from DATE-OBS'.\n",
      "WARNING: FITSFixedWarning: 'datfix' made the change 'Set MJD-OBS to 60695.858754 from DATE-OBS'. [astropy.wcs.wcs]\n",
      "WARNING:astropy:FITSFixedWarning: 'datfix' made the change 'Set MJD-OBS to 60695.858754 from DATE-OBS'.\n",
      "WARNING: FITSFixedWarning: 'datfix' made the change 'Set MJD-OBS to 60695.858770 from DATE-OBS'. [astropy.wcs.wcs]\n",
      "WARNING:astropy:FITSFixedWarning: 'datfix' made the change 'Set MJD-OBS to 60695.858770 from DATE-OBS'.\n"
     ]
    }
   ],
   "execution_count": 115,
   "source": [
    "#create master bias\n",
    "\n",
    "# path to all bias images\n",
    "bias_path = Path('bias_images')\n",
    "bias_images = ccdp.ImageFileCollection(bias_path)\n",
    "calibrated_biases = bias_images.files_filtered(imagetyp='Bias Frame', include_path=True)\n",
    "\n",
    "# combine bias images to create master bias\n",
    "combined_bias = ccdp.combine(calibrated_biases,\n",
    "                             method='average',\n",
    "                             sigma_clip=True, sigma_clip_low_thresh=5, sigma_clip_high_thresh=5,\n",
    "                             sigma_clip_func=np.ma.median, sigma_clip_dev_func=mad_std,\n",
    "                             unit='adu'\n",
    "                            )\n",
    "\n",
    "# give masterbias header of combined\n",
    "combined_bias.meta['combined'] = True\n",
    "\n",
    "# name masterbias\n",
    "combined_bias.write('masterbias.fits')"
   ],
   "id": "9dfc464a-54d4-4b56-8fb7-d070fb168c91"
  },
  {
   "cell_type": "code",
   "execution_count": 183,
   "id": "4e45972a-2381-40bb-bbe6-22b256edff41",
   "metadata": {},
   "outputs": [
    {
     "name": "stdout",
     "output_type": "stream",
     "text": [
      "Renamed: raw_images/FlatField 4x4 B 1.000secs 00025477.fit -> raw_images/FlatField 4x4 B 1.000secs 00025477.fits\n",
      "Renamed: raw_images/FlatField 4x4 B 1.000secs 00025470.fit -> raw_images/FlatField 4x4 B 1.000secs 00025470.fits\n",
      "Renamed: raw_images/FlatField 4x4 V 1.000secs 00025485.fit -> raw_images/FlatField 4x4 V 1.000secs 00025485.fits\n",
      "Renamed: raw_images/FlatField 4x4 V 1.000secs 00025484.fit -> raw_images/FlatField 4x4 V 1.000secs 00025484.fits\n",
      "Renamed: raw_images/FlatField 4x4 V 1.000secs 00025486.fit -> raw_images/FlatField 4x4 V 1.000secs 00025486.fits\n",
      "Renamed: raw_images/FlatField 4x4 V 1.000secs 00025487.fit -> raw_images/FlatField 4x4 V 1.000secs 00025487.fits\n",
      "Renamed: raw_images/FlatField 4x4 V 1.000secs 00025483.fit -> raw_images/FlatField 4x4 V 1.000secs 00025483.fits\n",
      "Renamed: raw_images/FlatField 4x4 V 1.000secs 00025482.fit -> raw_images/FlatField 4x4 V 1.000secs 00025482.fits\n",
      "Renamed: raw_images/FlatField 4x4 B 1.000secs 00025481.fit -> raw_images/FlatField 4x4 B 1.000secs 00025481.fits\n",
      "Renamed: raw_images/FlatField 4x4 B 1.000secs 00025480.fit -> raw_images/FlatField 4x4 B 1.000secs 00025480.fits\n",
      "Renamed: raw_images/FlatField 4x4 B 1.000secs 00025478.fit -> raw_images/FlatField 4x4 B 1.000secs 00025478.fits\n",
      "Renamed: raw_images/FlatField 4x4 B 1.000secs 00025479.fit -> raw_images/FlatField 4x4 B 1.000secs 00025479.fits\n"
     ]
    }
   ],
   "source": [
    "# Rename all .fit files to .fits in the input directory (attempting to avoid formatting error)\n",
    "for file_name in os.listdir('raw_images'):\n",
    "    if file_name.endswith('.fit'):\n",
    "        old_path = os.path.join('raw_images', file_name)\n",
    "        new_path = os.path.join('raw_images', file_name.replace(\".fit\", \".fits\"))\n",
    "        os.rename(old_path, new_path)\n",
    "        print(f\"Renamed: {old_path} -> {new_path}\")"
   ]
  },
  {
   "cell_type": "code",
   "execution_count": 15,
   "id": "ad435c13-2242-4801-99a7-2d247898f67f",
   "metadata": {},
   "outputs": [
    {
     "name": "stdout",
     "output_type": "stream",
     "text": [
      "INFO: using the unit adu passed to the FITS reader instead of the unit adu in the FITS file. [astropy.nddata.ccddata]\n",
      "Light 4x4 8.000secs V NGC 2516 00025549.fit 461.55670359965404\n",
      "Processed and saved: biassub_images/biassub_Light 4x4 8.000secs V NGC 2516 00025549.fit\n",
      "Light 4x4 8.000secs B NGC 2516 00025555.fit 291.09686368296565\n",
      "Processed and saved: biassub_images/biassub_Light 4x4 8.000secs B NGC 2516 00025555.fit\n",
      "Light 4x4 8.000secs B NGC 2516 00025554.fit 291.77687082737964\n",
      "Processed and saved: biassub_images/biassub_Light 4x4 8.000secs B NGC 2516 00025554.fit\n",
      "Light 4x4 8.000secs V NGC 2516 00025548.fit 479.42301708201103\n",
      "Processed and saved: biassub_images/biassub_Light 4x4 8.000secs V NGC 2516 00025548.fit\n",
      "Light 4x4 8.000secs B NGC 2516 00025553.fit 292.99784028803697\n",
      "Processed and saved: biassub_images/biassub_Light 4x4 8.000secs B NGC 2516 00025553.fit\n",
      "Light 4x4 8.000secs B NGC 2516 00025552.fit 298.4951411526321\n",
      "Processed and saved: biassub_images/biassub_Light 4x4 8.000secs B NGC 2516 00025552.fit\n",
      "Skipping non-FITS file: .ipynb_checkpoints\n",
      "Light 4x4 8.000secs V NGC 2516 00025551.fit 469.62695438069596\n",
      "Processed and saved: biassub_images/biassub_Light 4x4 8.000secs V NGC 2516 00025551.fit\n",
      "Light 4x4 8.000secs V NGC 2516 00025550.fit 463.0276391546176\n",
      "Processed and saved: biassub_images/biassub_Light 4x4 8.000secs V NGC 2516 00025550.fit\n"
     ]
    }
   ],
   "source": [
    "# subtract master bias from all other images\n",
    "\n",
    "# load masterbias\n",
    "masterbias_path = 'masterbias.fits'\n",
    "masterbias = CCDData.read(masterbias_path, unit='adu', format='fits')\n",
    "\n",
    "# directories for raw and bias subtracted images\n",
    "input_directory = 'raw_flats/raw_science'\n",
    "output_directory = 'biassub_images'\n",
    "os.makedirs(output_directory, exist_ok=True)\n",
    "\n",
    "# subtract masterbias each FITS file\n",
    "for file_name in os.listdir(input_directory):\n",
    "    file_path = os.path.join(input_directory, file_name)\n",
    "\n",
    "    # process only .fits files\n",
    "    if not file_name.endswith(\".fit\"):\n",
    "        print(f\"Skipping non-FITS file: {file_name}\")\n",
    "        continue\n",
    "    \n",
    "    # read the FITS file\n",
    "    image = CCDData.read(file_path, unit='adu', format='fits')\n",
    "\n",
    "    # subtract masterbias\n",
    "    biassub_image = ccdp.subtract_bias(image, masterbias)\n",
    "    \n",
    "    # rename output file and put into folder\n",
    "    biassub_mean = np.mean(biassub_image.data)\n",
    "    print(file_name, biassub_mean)\n",
    "    new_file_name = f\"{'biassub_'}{file_name}\"\n",
    "    output_path = os.path.join(output_directory, new_file_name)\n",
    "\n",
    "    # save the corrected image\n",
    "    biassub_image.write(output_path, overwrite=True)\n",
    "    print(f\"Processed and saved: {output_path}\")"
   ]
  },
  {
   "cell_type": "code",
   "execution_count": 9,
   "id": "d586969b-6bc1-4642-bb5b-d079e0c60905",
   "metadata": {},
   "outputs": [
    {
     "data": {
      "text/plain": [
       "'/Users/kendall/Desktop/astro_capetown/A61/Lab 3 Data'"
      ]
     },
     "execution_count": 9,
     "metadata": {},
     "output_type": "execute_result"
    }
   ],
   "source": [
    "import os\n",
    "os.getcwd()"
   ]
  },
  {
   "cell_type": "code",
   "execution_count": 169,
   "id": "a70aebc1-fe5e-48f4-a148-f34767037dc4",
   "metadata": {},
   "outputs": [
    {
     "data": {
      "text/html": [
       "<div><i>Table length=3</i>\n",
       "<table id=\"table5218572624\" class=\"table-striped table-bordered table-condensed\">\n",
       "<thead><tr><th>file</th><th>imagetyp</th></tr></thead>\n",
       "<thead><tr><th>str40</th><th>str10</th></tr></thead>\n",
       "<tr><td>biassub_Dark 4x4 8.000secs 00025562.fits</td><td>Dark Frame</td></tr>\n",
       "<tr><td>biassub_Dark 4x4 8.000secs 00025563.fits</td><td>Dark Frame</td></tr>\n",
       "<tr><td>biassub_Dark 4x4 8.000secs 00025564.fits</td><td>Dark Frame</td></tr>\n",
       "</table></div>"
      ],
      "text/plain": [
       "<Table length=3>\n",
       "                  file                    imagetyp \n",
       "                 str40                     str10   \n",
       "---------------------------------------- ----------\n",
       "biassub_Dark 4x4 8.000secs 00025562.fits Dark Frame\n",
       "biassub_Dark 4x4 8.000secs 00025563.fits Dark Frame\n",
       "biassub_Dark 4x4 8.000secs 00025564.fits Dark Frame"
      ]
     },
     "execution_count": 169,
     "metadata": {},
     "output_type": "execute_result"
    }
   ],
   "source": [
    "# find out what image type the darks are called\n",
    "\n",
    "dark_images = ccdp.ImageFileCollection('biassub_darks')\n",
    "dark_images.summary['file', 'imagetyp']"
   ]
  },
  {
   "cell_type": "code",
   "execution_count": 175,
   "id": "6d9af6f9-3462-47f2-8f3b-309ae76ede89",
   "metadata": {},
   "outputs": [
    {
     "name": "stderr",
     "output_type": "stream",
     "text": [
      "INFO:astropy:using the unit adu passed to the FITS reader instead of the unit adu in the FITS file.\n",
      "WARNING: FITSFixedWarning: 'datfix' made the change 'Set MJD-OBS to 60695.859077 from DATE-OBS'. [astropy.wcs.wcs]\n",
      "WARNING:astropy:FITSFixedWarning: 'datfix' made the change 'Set MJD-OBS to 60695.859077 from DATE-OBS'.\n",
      "INFO:astropy:using the unit adu passed to the FITS reader instead of the unit adu in the FITS file.\n",
      "INFO:astropy:using the unit adu passed to the FITS reader instead of the unit adu in the FITS file.\n",
      "WARNING: FITSFixedWarning: 'datfix' made the change 'Set MJD-OBS to 60695.859184 from DATE-OBS'. [astropy.wcs.wcs]\n",
      "WARNING:astropy:FITSFixedWarning: 'datfix' made the change 'Set MJD-OBS to 60695.859184 from DATE-OBS'.\n"
     ]
    },
    {
     "name": "stdout",
     "output_type": "stream",
     "text": [
      "INFO: using the unit adu passed to the FITS reader instead of the unit adu in the FITS file. [astropy.nddata.ccddata]\n",
      "INFO: using the unit adu passed to the FITS reader instead of the unit adu in the FITS file. [astropy.nddata.ccddata]\n",
      "INFO: using the unit adu passed to the FITS reader instead of the unit adu in the FITS file. [astropy.nddata.ccddata]\n"
     ]
    },
    {
     "name": "stderr",
     "output_type": "stream",
     "text": [
      "INFO:astropy:using the unit adu passed to the FITS reader instead of the unit adu in the FITS file.\n",
      "WARNING: FITSFixedWarning: 'datfix' made the change 'Set MJD-OBS to 60695.859293 from DATE-OBS'. [astropy.wcs.wcs]\n",
      "WARNING:astropy:FITSFixedWarning: 'datfix' made the change 'Set MJD-OBS to 60695.859293 from DATE-OBS'.\n"
     ]
    },
    {
     "name": "stdout",
     "output_type": "stream",
     "text": [
      "INFO: using the unit adu passed to the FITS reader instead of the unit adu in the FITS file. [astropy.nddata.ccddata]\n"
     ]
    }
   ],
   "source": [
    "#create master dark\n",
    "\n",
    "# path to biassub dark images\n",
    "dark_path = Path('biassub_darks')\n",
    "dark_images = ccdp.ImageFileCollection(dark_path)\n",
    "calibrated_darks = dark_images.files_filtered(imagetyp='Dark Frame', include_path=True)\n",
    "\n",
    "# combine dark images to create master dark\n",
    "combined_dark = ccdp.combine(calibrated_darks,\n",
    "                             method='average',\n",
    "                             sigma_clip=True, sigma_clip_low_thresh=5, sigma_clip_high_thresh=5,\n",
    "                             sigma_clip_func=np.ma.median, sigma_clip_dev_func=mad_std,\n",
    "                             unit='adu'\n",
    "                            )\n",
    "\n",
    "# give masterdark header of combined\n",
    "combined_dark.meta['combined'] = True\n",
    "\n",
    "# name masterdark\n",
    "combined_dark.write('masterdark.fits')"
   ]
  },
  {
   "cell_type": "code",
   "execution_count": 191,
   "id": "de739f4b-ab3b-4f8e-82b4-721a7b0d1ba0",
   "metadata": {},
   "outputs": [
    {
     "data": {
      "text/html": [
       "<div><i>Table length=12</i>\n",
       "<table id=\"table5223796176\" class=\"table-striped table-bordered table-condensed\">\n",
       "<thead><tr><th>file</th><th>imagetyp</th></tr></thead>\n",
       "<thead><tr><th>str47</th><th>str10</th></tr></thead>\n",
       "<tr><td>biassub_FlatField 4x4 B 1.000secs 00025470.fits</td><td>Flat Field</td></tr>\n",
       "<tr><td>biassub_FlatField 4x4 B 1.000secs 00025477.fits</td><td>Flat Field</td></tr>\n",
       "<tr><td>biassub_FlatField 4x4 B 1.000secs 00025478.fits</td><td>Flat Field</td></tr>\n",
       "<tr><td>biassub_FlatField 4x4 B 1.000secs 00025479.fits</td><td>Flat Field</td></tr>\n",
       "<tr><td>biassub_FlatField 4x4 B 1.000secs 00025480.fits</td><td>Flat Field</td></tr>\n",
       "<tr><td>biassub_FlatField 4x4 B 1.000secs 00025481.fits</td><td>Flat Field</td></tr>\n",
       "<tr><td>biassub_FlatField 4x4 V 1.000secs 00025482.fits</td><td>Flat Field</td></tr>\n",
       "<tr><td>biassub_FlatField 4x4 V 1.000secs 00025483.fits</td><td>Flat Field</td></tr>\n",
       "<tr><td>biassub_FlatField 4x4 V 1.000secs 00025484.fits</td><td>Flat Field</td></tr>\n",
       "<tr><td>biassub_FlatField 4x4 V 1.000secs 00025485.fits</td><td>Flat Field</td></tr>\n",
       "<tr><td>biassub_FlatField 4x4 V 1.000secs 00025486.fits</td><td>Flat Field</td></tr>\n",
       "<tr><td>biassub_FlatField 4x4 V 1.000secs 00025487.fits</td><td>Flat Field</td></tr>\n",
       "</table></div>"
      ],
      "text/plain": [
       "<Table length=12>\n",
       "                      file                       imagetyp \n",
       "                     str47                        str10   \n",
       "----------------------------------------------- ----------\n",
       "biassub_FlatField 4x4 B 1.000secs 00025470.fits Flat Field\n",
       "biassub_FlatField 4x4 B 1.000secs 00025477.fits Flat Field\n",
       "biassub_FlatField 4x4 B 1.000secs 00025478.fits Flat Field\n",
       "biassub_FlatField 4x4 B 1.000secs 00025479.fits Flat Field\n",
       "biassub_FlatField 4x4 B 1.000secs 00025480.fits Flat Field\n",
       "biassub_FlatField 4x4 B 1.000secs 00025481.fits Flat Field\n",
       "biassub_FlatField 4x4 V 1.000secs 00025482.fits Flat Field\n",
       "biassub_FlatField 4x4 V 1.000secs 00025483.fits Flat Field\n",
       "biassub_FlatField 4x4 V 1.000secs 00025484.fits Flat Field\n",
       "biassub_FlatField 4x4 V 1.000secs 00025485.fits Flat Field\n",
       "biassub_FlatField 4x4 V 1.000secs 00025486.fits Flat Field\n",
       "biassub_FlatField 4x4 V 1.000secs 00025487.fits Flat Field"
      ]
     },
     "execution_count": 191,
     "metadata": {},
     "output_type": "execute_result"
    }
   ],
   "source": [
    "# find out what image type the flats are called\n",
    "\n",
    "flat_fields = ccdp.ImageFileCollection('biassub_flats')\n",
    "flat_fields.summary['file', 'imagetyp']"
   ]
  },
  {
   "cell_type": "code",
   "execution_count": 51,
   "id": "bc5a542a-df56-4b57-b689-4a834d554949",
   "metadata": {},
   "outputs": [
    {
     "name": "stdout",
     "output_type": "stream",
     "text": [
      "INFO: using the unit adu passed to the FITS reader instead of the unit adu in the FITS file. [astropy.nddata.ccddata]\n",
      "INFO: using the unit adu passed to the FITS reader instead of the unit adu in the FITS file. [astropy.nddata.ccddata]\n",
      "INFO: using the unit adu passed to the FITS reader instead of the unit adu in the FITS file. [astropy.nddata.ccddata]\n",
      "INFO: using the unit adu passed to the FITS reader instead of the unit adu in the FITS file. [astropy.nddata.ccddata]\n",
      "INFO: using the unit adu passed to the FITS reader instead of the unit adu in the FITS file. [astropy.nddata.ccddata]\n",
      "INFO: using the unit adu passed to the FITS reader instead of the unit adu in the FITS file. [astropy.nddata.ccddata]\n",
      "Mean of master_Bflat: 1.0000000000000002\n",
      "Min value in master_Bflat: -0.004655346786017435\n",
      "Number of zero pixels: 1053\n",
      "Number of very small pixels (<1e-3): 19516\n",
      "Master B flat field image saved\n"
     ]
    }
   ],
   "source": [
    "# create masterflat for B filter\n",
    "\n",
    "# directory path for B filter images\n",
    "B_input_directory = 'biassub_flats/biassub_B'\n",
    "\n",
    "# initialize a list to hold CCDData objects\n",
    "scaled_B_images = []\n",
    "\n",
    "# scale fits images by median value\n",
    "for file_name in os.listdir(B_input_directory):\n",
    "    file_path = os.path.join(B_input_directory, file_name)\n",
    "\n",
    "    # read fits file\n",
    "    B_image = CCDData.read(file_path, unit=\"adu\", format=\"fits\")\n",
    "\n",
    "    # calculate the median pixel value\n",
    "    median_B_value = np.median(B_image.data)\n",
    "\n",
    "    # scale image by dividing by median \n",
    "    scaled_B_image = B_image.copy()\n",
    "    scaled_B_image.data = scaled_B_image.data / median_B_value\n",
    "\n",
    "    # append the scaled image to the list\n",
    "    scaled_B_images.append(scaled_B_image)\n",
    "\n",
    "# combine the scaled images by taking the median\n",
    "master_Bflat = ccdp.combine(scaled_B_images, \n",
    "                            method='median', \n",
    "                            sigma_clip=False,\n",
    "                           )\n",
    "\n",
    "# calculate the mean value of the combined master flat\n",
    "mean_B_value = np.mean(master_Bflat.data)\n",
    "\n",
    "# normalize the master flat by dividing by its mean value\n",
    "normalized_master_Bflat_data = master_Bflat.data / mean_B_value\n",
    "print(\"Mean of master_Bflat:\", np.mean(normalized_master_Bflat_data.data))\n",
    "print(\"Min value in master_Bflat:\", np.min(normalized_master_Bflat.data))\n",
    "print(\"Number of zero pixels:\", np.sum(normalized_master_Bflat.data == 0))\n",
    "print(\"Number of very small pixels (<1e-3):\", np.sum(normalized_master_Bflat.data < 1e-3))\n",
    "\n",
    "\n",
    "# convert master B flat to CCDData object\n",
    "normalized_master_Bflat = CCDData(data=normalized_master_Bflat_data, unit=master_Bflat.unit, meta=master_Bflat.meta)\n",
    "\n",
    "# name normalized master B flat\n",
    "normalized_master_Bflat.write('master_Bflat2.fits')\n",
    "\n",
    "print(f\"Master B flat field image saved\")"
   ]
  },
  {
   "cell_type": "code",
   "execution_count": 43,
   "id": "896b6c9a-efa3-4894-8991-97123a2a73a0",
   "metadata": {},
   "outputs": [
    {
     "name": "stdout",
     "output_type": "stream",
     "text": [
      "INFO: using the unit adu passed to the FITS reader instead of the unit adu in the FITS file. [astropy.nddata.ccddata]\n",
      "INFO: using the unit adu passed to the FITS reader instead of the unit adu in the FITS file. [astropy.nddata.ccddata]\n",
      "INFO: using the unit adu passed to the FITS reader instead of the unit adu in the FITS file. [astropy.nddata.ccddata]\n",
      "INFO: using the unit adu passed to the FITS reader instead of the unit adu in the FITS file. [astropy.nddata.ccddata]\n",
      "INFO: using the unit adu passed to the FITS reader instead of the unit adu in the FITS file. [astropy.nddata.ccddata]\n",
      "INFO: using the unit adu passed to the FITS reader instead of the unit adu in the FITS file. [astropy.nddata.ccddata]\n",
      "Mean of master_Vflat: 0.9999999999999999\n",
      "Master V flat field image saved\n"
     ]
    }
   ],
   "source": [
    "# create masterflat for V filter\n",
    "\n",
    "# directory path for V filter images\n",
    "V_input_directory = 'biassub_flats/biassub_V'\n",
    "\n",
    "# initialize a list to hold CCDData objects\n",
    "scaled_V_images = []\n",
    "\n",
    "# scale fits images by median value\n",
    "for file_name in os.listdir(V_input_directory):\n",
    "    file_path = os.path.join(V_input_directory, file_name)\n",
    "\n",
    "    # read fits file\n",
    "    V_image = CCDData.read(file_path, unit=\"adu\", format=\"fits\")\n",
    "\n",
    "    # calculate the median pixel value\n",
    "    median_V_value = np.median(V_image.data)\n",
    "\n",
    "    # scale image by dividing by median \n",
    "    scaled_V_image = V_image.copy()\n",
    "    scaled_V_image.data = scaled_V_image.data / median_V_value\n",
    "\n",
    "    # append the scaled image to the list\n",
    "    scaled_V_images.append(scaled_V_image)\n",
    "\n",
    "# combine the scaled images by taking the median\n",
    "master_Vflat = ccdp.combine(scaled_V_images, \n",
    "                            method='median', \n",
    "                            sigma_clip=False,\n",
    "                           )\n",
    "\n",
    "# calculate the mean value of the combined master flat\n",
    "mean_V_value = np.mean(master_Vflat.data)\n",
    "\n",
    "# normalize the master flat by dividing by its mean value\n",
    "normalized_master_Vflat_data = master_Vflat.data / mean_V_value\n",
    "print(\"Mean of master_Vflat:\", np.mean(normalized_master_Vflat_data.data))\n",
    "\n",
    "# convert master V flat to CCDData object\n",
    "normalized_master_Vflat = CCDData(data=normalized_master_Vflat_data, unit=master_Vflat.unit, meta=master_Vflat.meta)\n",
    "\n",
    "# name normalized master V flat\n",
    "normalized_master_Vflat.write('master_Vflat1.fits')\n",
    "\n",
    "print(f\"Master V flat field image saved\")"
   ]
  },
  {
   "cell_type": "code",
   "execution_count": 57,
   "id": "7a395f95-04b1-435e-9b8c-a8d6df9ee2e1",
   "metadata": {},
   "outputs": [
    {
     "name": "stdout",
     "output_type": "stream",
     "text": [
      "INFO: using the unit adu passed to the FITS reader instead of the unit adu in the FITS file. [astropy.nddata.ccddata]\n",
      "INFO: using the unit adu passed to the FITS reader instead of the unit adu in the FITS file. [astropy.nddata.ccddata]\n",
      "INFO: using the unit adu passed to the FITS reader instead of the unit adu in the FITS file. [astropy.nddata.ccddata]\n",
      "INFO: using the unit adu passed to the FITS reader instead of the unit adu in the FITS file. [astropy.nddata.ccddata]\n",
      "dark sub biassub_Light 4x4 8.000secs V NGC 2516 00025548.fit 473.2051686000985\n",
      "flat fielded biassub_Light 4x4 8.000secs V NGC 2516 00025548.fit 467.58513625326685\n",
      "Processed and saved: cleaned_images_1/cleaned_biassub_Light 4x4 8.000secs V NGC 2516 00025548.fit\n",
      "INFO: using the unit adu passed to the FITS reader instead of the unit adu in the FITS file. [astropy.nddata.ccddata]\n",
      "dark sub biassub_Light 4x4 8.000secs B NGC 2516 00025554.fit 285.55902234546676\n",
      "flat fielded biassub_Light 4x4 8.000secs B NGC 2516 00025554.fit 282.1531721397895\n",
      "Processed and saved: cleaned_images_1/cleaned_biassub_Light 4x4 8.000secs B NGC 2516 00025554.fit\n",
      "INFO: using the unit adu passed to the FITS reader instead of the unit adu in the FITS file. [astropy.nddata.ccddata]\n",
      "dark sub biassub_Light 4x4 8.000secs B NGC 2516 00025555.fit 284.87901520105277\n",
      "flat fielded biassub_Light 4x4 8.000secs B NGC 2516 00025555.fit 281.555916468335\n",
      "Processed and saved: cleaned_images_1/cleaned_biassub_Light 4x4 8.000secs B NGC 2516 00025555.fit\n",
      "INFO: using the unit adu passed to the FITS reader instead of the unit adu in the FITS file. [astropy.nddata.ccddata]\n",
      "dark sub biassub_Light 4x4 8.000secs V NGC 2516 00025549.fit 455.33885511774156\n",
      "flat fielded biassub_Light 4x4 8.000secs V NGC 2516 00025549.fit 449.7337775401267\n",
      "Processed and saved: cleaned_images_1/cleaned_biassub_Light 4x4 8.000secs V NGC 2516 00025549.fit\n",
      "INFO: using the unit adu passed to the FITS reader instead of the unit adu in the FITS file. [astropy.nddata.ccddata]\n",
      "dark sub biassub_Light 4x4 8.000secs B NGC 2516 00025552.fit 292.27729267071925\n",
      "flat fielded biassub_Light 4x4 8.000secs B NGC 2516 00025552.fit 288.70421537134536\n",
      "Processed and saved: cleaned_images_1/cleaned_biassub_Light 4x4 8.000secs B NGC 2516 00025552.fit\n",
      "INFO: using the unit adu passed to the FITS reader instead of the unit adu in the FITS file. [astropy.nddata.ccddata]\n",
      "dark sub biassub_Light 4x4 8.000secs B NGC 2516 00025553.fit 286.7799918061241\n",
      "flat fielded biassub_Light 4x4 8.000secs B NGC 2516 00025553.fit 283.1846983586956\n",
      "Processed and saved: cleaned_images_1/cleaned_biassub_Light 4x4 8.000secs B NGC 2516 00025553.fit\n",
      "INFO: using the unit adu passed to the FITS reader instead of the unit adu in the FITS file. [astropy.nddata.ccddata]\n",
      "dark sub biassub_Light 4x4 8.000secs V NGC 2516 00025550.fit 456.8097906727051\n",
      "flat fielded biassub_Light 4x4 8.000secs V NGC 2516 00025550.fit 451.1141272803082\n",
      "Processed and saved: cleaned_images_1/cleaned_biassub_Light 4x4 8.000secs V NGC 2516 00025550.fit\n",
      "INFO: using the unit adu passed to the FITS reader instead of the unit adu in the FITS file. [astropy.nddata.ccddata]\n",
      "dark sub biassub_Light 4x4 8.000secs V NGC 2516 00025551.fit 463.4091058987835\n",
      "flat fielded biassub_Light 4x4 8.000secs V NGC 2516 00025551.fit 457.72667268267526\n",
      "Processed and saved: cleaned_images_1/cleaned_biassub_Light 4x4 8.000secs V NGC 2516 00025551.fit\n"
     ]
    }
   ],
   "source": [
    "# reduce raw data by subtracting dark and flat fielding\n",
    "\n",
    "# paths for masterdark and master flat fields\n",
    "masterdark_path = 'masterdark.fits'\n",
    "masterdark = CCDData.read(masterdark_path, unit='adu', format='fits')\n",
    "\n",
    "master_Bflat_path = 'master_Bflat.fits'\n",
    "master_Bflat = CCDData.read(master_Bflat_path, unit='adu', format='fits')\n",
    "master_Vflat_path = 'master_Vflat.fits'\n",
    "master_Vflat = CCDData.read(master_Vflat_path, unit='adu', format='fits')\n",
    "\n",
    "# set minimum threshold for flats\n",
    "safe_Bflat = master_Bflat.copy()\n",
    "safe_Bflat.data[safe_Bflat.data < 1e-3] = 1  # Avoid division by tiny values\n",
    "safe_Vflat = master_Vflat.copy()\n",
    "safe_Vflat.data[safe_Vflat.data < 1e-3] = 1  # Avoid division by tiny values\n",
    "\n",
    "# directories\n",
    "input_directory = 'biassub_images'\n",
    "output_directory = 'cleaned_images_1'\n",
    "os.makedirs(output_directory, exist_ok=True)\n",
    "\n",
    "# specify exposure time\n",
    "exposure_time = 8 * u.s\n",
    "\n",
    "# reduce raw images\n",
    "for file_name in os.listdir(input_directory):\n",
    "    file_path = os.path.join(input_directory, file_name)\n",
    "\n",
    "    #use master B flat to reduce B images\n",
    "    if 'B' in file_name:\n",
    "        B_raw = CCDData.read(file_path, unit='adu', format='fits')\n",
    "        B_dark_subtracted = ccdp.subtract_dark(B_raw, masterdark,\n",
    "                                               dark_exposure=exposure_time, \n",
    "                                               data_exposure=exposure_time,\n",
    "                                               exposure_unit=u.second\n",
    "                                               )\n",
    "        B_dark_mean = np.mean(B_dark_subtracted.data)\n",
    "        print('dark sub', file_name, B_dark_mean)\n",
    "        B_flat_fielded = ccdp.flat_correct(B_dark_subtracted,\n",
    "                                              safe_Bflat, \n",
    "                                              norm_value=1\n",
    "                                             )\n",
    "        B_flat_mean = np.mean(B_flat_fielded.data)\n",
    "        print('flat fielded', file_name, B_flat_mean)\n",
    "        \n",
    "        # rename output file and put into folder\n",
    "        new_file_name = f\"{'cleaned_'}{file_name}\"\n",
    "        output_path = os.path.join(output_directory, new_file_name)\n",
    "        \n",
    "        # save the cleaned image\n",
    "        B_flat_fielded.write(output_path, overwrite=True)\n",
    "        print(f\"Processed and saved: {output_path}\")\n",
    "\n",
    "    #use master V flat to reduce V images\n",
    "    if 'V' in file_name:\n",
    "        V_raw = CCDData.read(file_path, unit='adu', format='fits')\n",
    "        V_dark_subtracted = ccdp.subtract_dark(V_raw, masterdark,\n",
    "                                               dark_exposure=exposure_time, \n",
    "                                               data_exposure=exposure_time,\n",
    "                                               exposure_unit=u.second\n",
    "                                               )\n",
    "        V_dark_mean = np.mean(V_dark_subtracted.data)\n",
    "        print('dark sub', file_name, V_dark_mean)\n",
    "        V_flat_fielded = ccdp.flat_correct(V_dark_subtracted,\n",
    "                                           safe_Vflat, \n",
    "                                           norm_value=1\n",
    "                                          )\n",
    "        V_flat_mean = np.mean(V_flat_fielded.data)\n",
    "        print('flat fielded', file_name, V_flat_mean)\n",
    "        \n",
    "        # rename output file and put into folder\n",
    "        new_file_name = f\"{'cleaned_'}{file_name}\"\n",
    "        output_path = os.path.join(output_directory, new_file_name)\n",
    "\n",
    "        # save the cleaned image\n",
    "        V_flat_fielded.write(output_path, overwrite=True)\n",
    "        print(f\"Processed and saved: {output_path}\")"
   ]
  },
  {
   "cell_type": "code",
   "execution_count": null,
   "id": "848389a7-dd4c-4728-a948-ef6cdd12a575",
   "metadata": {},
   "outputs": [],
   "source": []
  }
 ],
 "metadata": {
  "kernelspec": {
   "display_name": "Python 3 (ipykernel)",
   "language": "python",
   "name": "python3"
  },
  "language_info": {
   "codemirror_mode": {
    "name": "ipython",
    "version": 3
   },
   "file_extension": ".py",
   "mimetype": "text/x-python",
   "name": "python",
   "nbconvert_exporter": "python",
   "pygments_lexer": "ipython3",
   "version": "3.11.8"
  }
 },
 "nbformat": 4,
 "nbformat_minor": 5
}
