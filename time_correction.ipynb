{
 "cells": [
  {
   "cell_type": "markdown",
   "id": "5b03383ef09579c6",
   "metadata": {},
   "source": [
    "# Correcting Datacube Transit Times\n",
    "\n",
    "When separating datacube files in AstroImageJ, the times in the series are not preserved. Instead, each slice inherits the same FITS header as the first slice. This means that the time of the first slice is used for all slices in the series. To correct this, we need to use the initial times of each datacube, the exposure time, and the frame transfer time to calculate the correct time for each slice.\n",
    "\n",
    "In each fits header, I also corrected the dimensionality of the data by removing NAXIS3, as each slice is two dimensional. Finally, I fixed the filenames to have only 1 .fits ending."
   ]
  },
  {
   "cell_type": "code",
   "id": "da6d2784c877764b",
   "metadata": {},
   "source": [
    "# loading required packages\n",
    "from astropy.io import fits\n",
    "from pathlib import Path\n",
    "import os\n",
    "import datetime"
   ],
   "outputs": [],
   "execution_count": null
  },
  {
   "cell_type": "code",
   "id": "633adea86f97f4cb",
   "metadata": {},
   "source": [
    "# loops over all raw files, i is kept as a counter to keep track of the slice number\n",
    "i = 0\n",
    "\n",
    "# make sure to only use .fits files\n",
    "paths = sorted(Path('raw').glob('*.fits'))\n",
    "\n",
    "for file_name in paths:\n",
    "    # open file\n",
    "    print(\"currently trying:\" + str(file_name))\n",
    "    fits_inf = fits.open(str(file_name), ignore_missing_simple=True)\n",
    "    header = fits_inf[0].header\n",
    "\n",
    "    # remove NAXIS3, rename FRAME to DATE-OBS, DATE-OBS to USER-START\n",
    "    header.pop('NAXIS3', None)\n",
    "    header['STR-TIME'] = header.pop('DATE-OBS', None)\n",
    "    header['DATE-OBS'] = header.pop('FRAME', None)\n",
    "\n",
    "    # get info, calculate slice time, edit date modified\n",
    "    time_between_slices = datetime.timedelta(seconds=header['ACT'])\n",
    "    initial_time = datetime.datetime.strptime(header['DATE-OBS'],\"%Y-%m-%dT%H:%M:%S.%f\")\n",
    "    slice_time = initial_time + i * time_between_slices\n",
    "    slice_time_str = slice_time.strftime(\"%Y-%m-%dT%H:%M:%S.%f\")\n",
    "    date_modified = datetime.datetime.now().strftime(\"%Y-%m-%dT%H:%M:%S\")\n",
    "\n",
    "    # update header with times\n",
    "    header['DATE-OBS'] = slice_time_str\n",
    "    header['IRAF-TLM'] = date_modified\n",
    "\n",
    "    output_dir = Path('time_corrected')\n",
    "    output_dir.mkdir(exist_ok=True)\n",
    "\n",
    "    # save the corrected FITS file\n",
    "    p = str(file_name).split('/')[1]\n",
    "    # for windows, use below\n",
    "    # p = str(file_name).split('\\\\')[1]\n",
    "\n",
    "    p = p.split('.')\n",
    "    new_file_name = p[0] + \".\" + p[1] + '_timecorr.fits'\n",
    "    output_path = 'time_corrected/' + new_file_name\n",
    "\n",
    "    # save the corrected FITS file\n",
    "    fits_inf.writeto(output_path, overwrite=True)\n",
    "    print(f\"Processed and saved: {output_path}\")\n",
    "\n",
    "    i+=1"
   ],
   "outputs": [],
   "execution_count": null
  },
  {
   "cell_type": "code",
   "id": "83f721853c80b647",
   "metadata": {},
   "source": [],
   "outputs": [],
   "execution_count": null
  }
 ],
 "metadata": {
  "kernelspec": {
   "display_name": "Python [conda env:base] *",
   "language": "python",
   "name": "conda-base-py"
  },
  "language_info": {
   "codemirror_mode": {
    "name": "ipython",
    "version": 3
   },
   "file_extension": ".py",
   "mimetype": "text/x-python",
   "name": "python",
   "nbconvert_exporter": "python",
   "pygments_lexer": "ipython3",
   "version": "3.11.8"
  }
 },
 "nbformat": 4,
 "nbformat_minor": 5
}
